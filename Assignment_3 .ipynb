{
  "nbformat": 4,
  "nbformat_minor": 0,
  "metadata": {
    "colab": {
      "name": "Assignment_3.ipynb",
      "provenance": [],
      "collapsed_sections": []
    },
    "kernelspec": {
      "name": "python3",
      "display_name": "Python 3"
    }
  },
  "cells": [
    {
      "cell_type": "markdown",
      "metadata": {
        "id": "5sSvl4MFRyFt",
        "colab_type": "text"
      },
      "source": [
        "#***Machine Learning: Assessment 3  Take Home Eaxm***\n"
      ]
    },
    {
      "cell_type": "markdown",
      "metadata": {
        "id": "zvAbR0b1SHli",
        "colab_type": "text"
      },
      "source": [
        "Student Name: Shiwei Xu\n",
        "\n",
        "ID:12418986\n",
        "\n",
        "Link:https://github.com/george0521/UTS_ML_2019_ID12418986/blob/master/Assignment_3.ipynb"
      ]
    },
    {
      "cell_type": "markdown",
      "metadata": {
        "id": "iYs05pOFSYPb",
        "colab_type": "text"
      },
      "source": [
        "**Question 3:**\n",
        "Marketing or advertising companies would be very interested in being able to predict whether a Twitter message will spread as a meme or not, and even better, construct it so that it will spread. \n",
        "\n",
        "> Why is this a hard problem to solve?\n",
        "\n",
        "> Describe two approaches using data analytics to predict whether a tweet will go viral or not. How would you validate these approaches? \n",
        "\n",
        "> Discuss the ethical and social consequence of this study."
      ]
    },
    {
      "cell_type": "markdown",
      "metadata": {
        "id": "0s885aeargc0",
        "colab_type": "text"
      },
      "source": [
        "##**Introduction of meme**"
      ]
    },
    {
      "cell_type": "markdown",
      "metadata": {
        "id": "DeX2khT3tFl9",
        "colab_type": "text"
      },
      "source": [
        "Meme, proposed by British biologist Richard Dawkins in ‘The Selfish Genes’, refers to the (smallest) cultural unit duplicated by imitation. (Dawkins, 1976) Many people question that the study of memes is too metaphorical and that it is difficult to define the object of study accurately. Blackmore (1998) points out that imitation is different from \"infection\". Blackmore specifically emphasizes this point in order to distinguish between imitative and non-imitative learning. Memes must be disseminated through imitative learning. \n",
        "\n",
        "Dawkins pointed out that memes are like genes, and their transmission is similar to natural selection. Successful replication of memes has three characteristics: longevity, productivity and duplication faithfulness."
      ]
    },
    {
      "cell_type": "markdown",
      "metadata": {
        "id": "gkxjE-3gFTZQ",
        "colab_type": "text"
      },
      "source": [
        "##**Why predict a meme whether could be spread is hard problem to solve?**"
      ]
    },
    {
      "cell_type": "markdown",
      "metadata": {
        "id": "d9RzbA2OFX6s",
        "colab_type": "text"
      },
      "source": [
        "Information technology provides time and space convenience for information dissemination. Especially in the past decade, the rapid development of social networks has stimulated the surge of information and meme relies on these replication of information in the network.Usually people refer to the large-scale forwarding of some information in cyberspace, especially in social networks, as viral transmission. Predicting whether memes will become viruses and extending them to create \"memorable\" content is a complex issue.\n",
        "\n",
        "Because of the huge amount of content generated and disseminated through social media and the limited attention of users, it is difficult to get high traffic for content with small proportion. Moreover, because the subject can be changed at any time, memes have a high degree of dynamic behavior, which further increases the difficulty of prediction.\n",
        "\n",
        "At the same time, because of the instantaneity of information, those memes which reach the peak of traffic in a short time and decay rapidly make it more difficult to predict the future. The active period of this information can often last for several hours to even months. Similarly, the prediction of memes can not be based on historical data and trends as traditional prediction models do.Because memes have a high degree of dynamic behavior,It will change instantly as global relations change."
      ]
    },
    {
      "cell_type": "markdown",
      "metadata": {
        "id": "dkbVrgEiG9hr",
        "colab_type": "text"
      },
      "source": [
        "##**Two Approaches**"
      ]
    },
    {
      "cell_type": "markdown",
      "metadata": {
        "id": "KJ5wik7up7Bv",
        "colab_type": "text"
      },
      "source": [
        "**Approach 1:**\n",
        "The first method is to apply a machine learning algorithm called 'random forest' to predict which memes will spread in the future according to the first 50 information of each meme. Because the high concentration of memes implies that memes are only interested in certain groups, while the low concentration implies a general attraction, so it may be used to predict the virulence of memes.\n",
        "![替代文字](https://raw.githubusercontent.com/george0521/UTS_ML_2019_ID12418986/master/prediction2.png)\n",
        "\n",
        "As shown in the figure below, when we analyze the diffusion pattern of viral memes from the perspective of community concentration, the diffusion pattern of viral memes is very different from that of non-viral memes."
      ]
    },
    {
      "cell_type": "markdown",
      "metadata": {
        "id": "ELgf9P1hw1bh",
        "colab_type": "text"
      },
      "source": [
        "**Approach 2:**\n",
        "Approach 2, as the basis of the prediction model, uses graphical analysis to test the relationship between the peak value of global clustering coefficient (gcc) and the peak value of prevalence. The burst labels in those datasets are accumulated into evolutionary maps, and then the gcc, average node degree and maximum node degree are calculated. \n",
        "\n",
        "Then a power law function is used to form a model to predict the popularity of explosive labels in the future. Finally, the average absolute percentage error is used to validate the model, and compared with spipem model, Hawkes model and other smaller error models."
      ]
    },
    {
      "cell_type": "markdown",
      "metadata": {
        "id": "nmqeNb85WkH6",
        "colab_type": "text"
      },
      "source": [
        "##**Validation**\n",
        "\n",
        "To validate the first approach use of community-based feature classifiers significantly improves the prediction results. For approach 1 it’s only need to know the first 50 tweets of each meme and it will detect viral memes in 4 weeks. For example, when virulence is estimated by the number of meme adopters, 60-70% of our predictions are accurate and 50-70% of actual viral memes are reported.\n",
        "![替代文字](https://raw.githubusercontent.com/george0521/UTS_ML_2019_ID12418986/master/delta_F1_over_baseline.048.png)\n",
        "\n",
        "For second approach,a data set needs to be created, and a large number of tweets need to be checked to provide sufficient results. After obtaining the tweets data set, it is divided into different partitions by cross-validation, one of which is selected as the test set and the other as the training (Cogito 2019). Then the two partitions are send to each model and evaluated using root mean square error to understand the error rate and compare with other existing models."
      ]
    },
    {
      "cell_type": "markdown",
      "metadata": {
        "id": "FZi0telvbsz7",
        "colab_type": "text"
      },
      "source": [
        "##**Ethics and Social Consequence**\n",
        "\n",
        "The ability to predict viral information online may has the potential to create ethical issues. Such as some people may make use of the characteristics of rapid information dissemination to publicize the established facts by creating and distorting the second time, so as to achieve their own goals. Even by adding some radical remarks to shape public attitudes and influence the public. Institutions should protect more important information by learning about information that may be widely disseminated and spreading it virally. If developers continue to mine huge social media data to create predictive models, they must be alert to the unethical nature of their work and take a utilitarian stance to design solutions that help most people. And this is the main problem facing us at the present stage."
      ]
    },
    {
      "cell_type": "markdown",
      "metadata": {
        "id": "3dJQJnjFhUKg",
        "colab_type": "text"
      },
      "source": [
        "##**Reference**\n",
        "\n",
        "\n",
        "Dawkins, Richard , 2006, It's all in the genes,The Sunday Times, viewed 7 October 2019.\n",
        "\n",
        "Dawkins, Richard ,1976, The Selfish Gene, Oxford University Press,viewed 9 October 2019.\n",
        "\n",
        "Cogito, 2019, How to validate machine learning models: ML Model Validation Methods, 13 May, viewed 6 October 2019, < https://www.cogitotech.com/blog/how-to-validate-machine-learning-models/?fbclid=IwAR0ctMADjVYcaRwzc_R12bEncpPiq-t5s3vPjOHhZV9gySMahhk0PSTfyZQ >. \n",
        "\n",
        "Lilian Weng, Filippo Menczer, and Yong-Yeol Ahn, 2013, Virality Prediction and Community Structure,viewed 8 October 2019, <https://lilianweng.github.io/virality.html>"
      ]
    }
  ]
}