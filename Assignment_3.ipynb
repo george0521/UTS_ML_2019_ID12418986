{
  "nbformat": 4,
  "nbformat_minor": 0,
  "metadata": {
    "colab": {
      "name": "Assignment 3.ipynb",
      "provenance": []
    },
    "kernelspec": {
      "name": "python3",
      "display_name": "Python 3"
    }
  },
  "cells": [
    {
      "cell_type": "markdown",
      "metadata": {
        "id": "5sSvl4MFRyFt",
        "colab_type": "text"
      },
      "source": [
        "#***Machine Learning: Assessment 3  Take Home Eaxm***\n"
      ]
    },
    {
      "cell_type": "markdown",
      "metadata": {
        "id": "zvAbR0b1SHli",
        "colab_type": "text"
      },
      "source": [
        "Student Name: Shiwei Xu\n",
        "\n",
        "ID:12418986"
      ]
    },
    {
      "cell_type": "markdown",
      "metadata": {
        "id": "iYs05pOFSYPb",
        "colab_type": "text"
      },
      "source": [
        "**Question 3:**\n",
        "Marketing or advertising companies would be very interested in being able to predict whether a Twitter message will spread as a meme or not, and even better, construct it so that it will spread. \n",
        "\n",
        "> Why is this a hard problem to solve?\n",
        "\n",
        "> Describe two approaches using data analytics to predict whether a tweet will go viral or not. How would you validate these approaches? \n",
        "\n",
        "> Discuss the ethical and social consequence of this study."
      ]
    },
    {
      "cell_type": "markdown",
      "metadata": {
        "id": "0s885aeargc0",
        "colab_type": "text"
      },
      "source": [
        "##**Introduction of meme**"
      ]
    },
    {
      "cell_type": "markdown",
      "metadata": {
        "id": "DeX2khT3tFl9",
        "colab_type": "text"
      },
      "source": [
        "Meme, proposed by British biologist Richard Dawkins in ‘The Selfish Genes’, refers to the (smallest) cultural unit duplicated by imitation. (Dawkins, 1976) Many people question that the study of memes is too metaphorical and that it is difficult to define the object of study accurately. Blackmore (1998) points out that imitation is different from \"infection\". Blackmore specifically emphasizes this point in order to distinguish between imitative and non-imitative learning. Memes must be disseminated through imitative learning. \n",
        "\n",
        "Dawkins pointed out that memes are like genes, and their transmission is similar to natural selection. Successful replication of memes has three characteristics: longevity, productivity and duplication faithfulness."
      ]
    },
    {
      "cell_type": "markdown",
      "metadata": {
        "id": "gkxjE-3gFTZQ",
        "colab_type": "text"
      },
      "source": [
        "##**Why predict a meme whether could be spread is hard problem to solve?**"
      ]
    },
    {
      "cell_type": "markdown",
      "metadata": {
        "id": "d9RzbA2OFX6s",
        "colab_type": "text"
      },
      "source": [
        "Information technology provides time and space convenience for information dissemination. Especially in the past decade, the rapid development of social networks has stimulated the surge of information and meme relies on these replication of information in the network.Usually people refer to the large-scale forwarding of some information in cyberspace, especially in social networks, as viral transmission. Predicting whether memes will become viruses and extending them to create \"memorable\" content is a complex issue.\n",
        "\n",
        "Because of the huge amount of content generated and disseminated through social media and the limited attention of users, it is difficult to get high traffic for content with small proportion. Moreover, because the subject can be changed at any time, memes have a high degree of dynamic behavior, which further increases the difficulty of prediction.\n",
        "\n",
        "At the same time, because of the instantaneity of information, those memes which reach the peak of traffic in a short time and decay rapidly make it more difficult to predict the future. The active period of this information can often last for several hours to even months. Similarly, the prediction of memes can not be based on historical data and trends as traditional prediction models do.Because memes have a high degree of dynamic behavior,It will change instantly as global relations change."
      ]
    },
    {
      "cell_type": "markdown",
      "metadata": {
        "id": "tOFwckQMw3QP",
        "colab_type": "text"
      },
      "source": [
        ""
      ]
    },
    {
      "cell_type": "markdown",
      "metadata": {
        "id": "gC-LWhHzxYK1",
        "colab_type": "text"
      },
      "source": [
        ""
      ]
    },
    {
      "cell_type": "markdown",
      "metadata": {
        "id": "dkbVrgEiG9hr",
        "colab_type": "text"
      },
      "source": [
        "##**Two Approaches**"
      ]
    },
    {
      "cell_type": "markdown",
      "metadata": {
        "id": "KJ5wik7up7Bv",
        "colab_type": "text"
      },
      "source": [
        "**Approach 1:**\n",
        "The first method is to apply a machine learning algorithm called 'random forest' to predict which memes will spread in the future according to the first 50 information of each meme. Because the high concentration of memes implies that memes are only interested in certain groups, while the low concentration implies a general attraction, so it may be used to predict the virulence of memes.\n",
        "\n",
        "As shown in the figure below, when we analyze the diffusion pattern of viral memes from the perspective of community concentration, the diffusion pattern of viral memes is very different from that of non-viral memes."
      ]
    },
    {
      "cell_type": "markdown",
      "metadata": {
        "id": "ELgf9P1hw1bh",
        "colab_type": "text"
      },
      "source": [
        "**Approach 2:**"
      ]
    }
  ]
}