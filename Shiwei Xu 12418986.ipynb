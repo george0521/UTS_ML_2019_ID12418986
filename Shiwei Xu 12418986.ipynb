{
 "cells": [
  {
   "cell_type": "markdown",
   "metadata": {},
   "source": [
    "# Review Report on \"Eigenfaces vs. Fisherfaces: Recognition Using Class Specific Linear Projection\""
   ]
  },
  {
   "cell_type": "markdown",
   "metadata": {},
   "source": [
    "## Content"
   ]
  },
  {
   "cell_type": "markdown",
   "metadata": {},
   "source": [
    " This research is about the development of a new method of face recognition called ‘FisherFace’(Fisher, 1936), because over the past few years, many algorithms have been proposed for face recognition, and although these algorithms have made great progress in recognizing faces with minor changes, the recognition in more extreme cases is very unsatisfactory.So the author outlines this method of face recognition which is insensitive to the change of illumination and facial expression and compares it with other methods of face recognition in depth to prove ‘FisherFace’.\n",
    "  \n",
    "  This paper introduce and compare four different methods Correlation, Eigenfaces, Linear Subspaces and Fisherfaces in detail. The correlation method identifies the image in the test set by assigning the nearest label in the learning set， therefore, the distance have to be measured in image space(Chellappa and Sirohey, 1995).\n",
    "  Eigensurface is a face recognition method based on appearance. It aims to capture the changes in the face image set and use these information to encoding and comparing individual face images in a holistic way. Specifically, the Eigensurface is the main component of the face distribution, or is equivalent to the eigenvector of the covariance matrix of the surface image set. An image with N pixels is regarded as a point (or vector) in the n-dimensional space(Belhumeur, Hespanha and Kriegman, 1997).\n",
    "\n",
    "Linear Subspaces method has a better performance to accurate capture in case of changing illumination direction which the images of a particular face lie in a 3D linear subspace.\n",
    "\n",
    "Fisherface which based on FLD(Fisher’s Linear Discriminant) and have better recognition rate than other method even have a good performance in some extreme cases.\n",
    "\n",
    "After that, the paper shows the experiment result which test those methods perform. And come to the conclusion by then that the Fisherface method had error rates lower than the other method and required less computation time.\n",
    "  \n",
    " "
   ]
  },
  {
   "cell_type": "markdown",
   "metadata": {},
   "source": [
    "## Innovation"
   ]
  },
  {
   "cell_type": "markdown",
   "metadata": {},
   "source": [
    "The background at the time of the work is that people understood the problem as existing algorithms are very unsatisfactory for recognition in more extreme cases. The creative idea is the paper here contribute a new face recognition algorithm which on Fisher’s Linear Discriminant (Fisher, 1936) and insensitive to light direction and facial expression changes. In this paper, the algorithm is deeply analyzed and compared with other algorithms and how the Fisherface works(Belhumeur, Hespanha and Kriegman, 1997).\n",
    "\n",
    "Fisherface algorithm is a face recognition algorithm which combines the characteristics of PCA and LDA (Sirovitch and  Kirby, 1987).\n",
    "\n",
    "The main idea of PCA algorithm is to solve eigenvalues and eigenvectors in matrix analysis, find the most important eigenvalues for co-variance matrix, eliminate the unimportant eigenvalues, and retain the eigenvectors corresponding to large eigenvalues, so that the number of eigenvectors is reduced, that is to say, the number of bases in linear space is reduced. When the same original vector is projected into this space, the result is a coefficient vector. The dimension of the coefficient vector is equal to the number of bases, which achieves the purpose of dimension reduction.\n",
    "\n",
    "The main idea of LDA algorithm is to find a vector in a linear space according to Fisher's linear discriminant criterion, and projecting the original vector can achieve the effect of distinguishing different classes, that is, the ratio between and within classes is the smallest. The main method is to make the samples of the same pattern dense and the samples of different patterns separate. Under the condition that the FISHER discriminant criterion function takes the extreme value, the optimal discriminant plane is adopted to maximize the inter-class divergence of sample vectors and minimize the infra-class divergence.\n",
    "\n",
    "The feature face image reflects the component with the greatest change in the original pattern so that the mean square error of the reconstructed image is the smallest. Therefore, the feature face method is greatly affected by factors unrelated to face recognition such as illumination conditions. Fisher linear discriminant analysis uses the information of class members and extracts a set of eigenvectors, which emphasizes the difference of different faces rather than the change of illumination conditions, facial expression, and direction. Therefore, the Fisherface method is more insensitive to the changes of illumination and face pose, which is helpful to improve the recognition effect. The method based on LDA directly carries out discriminant analysis among different classes, trying to find the projection direction that makes the same class of samples as close as possible, while different types of samples as separate as possible, while the method based on PCA does not pay much attention to the structure between classes. Instead, the original database is taken as a whole for independent principal component analysis.\n",
    "\n",
    "The method based on LDA directly carries out discriminant analysis among different classes, trying to find the projection direction that makes the same class of samples as close as possible, while different types of samples as separate as possible, while the method based on PCA does not pay much attention to the structure between classes. Instead, the original database is taken as a whole for independent principal component analysis. The data are transformed from the original face space to the feature space while maintaining most of the features of the original face space data. PCA algorithm processes the whole gray value information of the original data and extracts the main feature information for recognition without considering the potential classification structure information of the original image. LDA algorithm takes into account the classification features of different classes in the original image while processing the original image data. On this basis, it realizes the transformation of data from the original face space to the feature space. Therefore, the method of FISHERFACE is formed by combining LDA and PCA for face recognition and identification."
   ]
  },
  {
   "cell_type": "markdown",
   "metadata": {},
   "source": [
    "## Technical quality"
   ]
  },
  {
   "cell_type": "markdown",
   "metadata": {},
   "source": [
    "The technical development if of high quality. The authors supported their theory using analysis and comparison with clear ideas.\n",
    "\n",
    "In this paper, there are a lot of data and analysis of professional algorithm formulas(Belhumeur, Hespanha and Kriegman, 1997). In the third part of the paper, the experiment also fully compares the various methods and lists the advantages and disadvantages of each method (Sirovitch and  Kirby, 1987).\n",
    "\n",
    "In the second part of the paper, it is proved that this is a very professional and high-quality report by introducing various methods in detail and writing their corresponding algorithms. Such as the description of Fisherface method in section 2, author use the professional and refined descriptions make it easier for readers to read and understand. \n",
    "\n",
    "The comparison between the methods is relatively fair and reasonable. When the variables are fixed, each method is tested and the test data are recorded. Then the advantages and disadvantages of each method are analyzed by comparing the data. There is no deliberate beautification of the new method ‘Fisherface’.\n",
    "\n",
    "The final conclusion is also very rigorous. It not only summarizes Fisherface, proves its advantages again from various aspects, but also points out some problems of this method, and looks forward to the future."
   ]
  },
  {
   "cell_type": "markdown",
   "metadata": {},
   "source": [
    "## Application and X-factor"
   ]
  },
  {
   "cell_type": "markdown",
   "metadata": {},
   "source": [
    "I find the proposal in the paper promising. And the proposed technique here is appropriate for the application domain. Face recognition technology will play a very important role in the application field, such as security inspection system. With the continuous improvement of recognition technology, more and more possible dangers will be strangled in the cradle. At the same time, the improvement of this recognition technology has a very good impetus to the social science exhibition. People may only need to recognize the face to complete many things in the future, such as payment or something else.\n",
    "\n",
    "Also, the topic discussed in this paper will inevitably lead to a very detailed and in-depth discussion in the classroom. First, it is related to our curriculum we don't feel strange to it, other worlds we all have certain specialized knowledge. Secondly, face recognition itself has a considerable amount of content to study, whether from the algorithm or other aspects.\n",
    "\n",
    "At the same time, I am also very interested in image recognition. The various methods and algorithms mentioned in this paper seem to me to have opened up a new world. The analysis and application of various algorithms also make me gradually feel the charm of this subject. I also hope that I can have my own achievements in this field in the future."
   ]
  },
  {
   "cell_type": "markdown",
   "metadata": {},
   "source": [
    "## Presentation"
   ]
  },
  {
   "cell_type": "markdown",
   "metadata": {},
   "source": [
    "The overall structure is clear. I found reading is easy. Each proper noun and method are introduced in detail, so that I can quickly get the points. At the same time, the author describes the information of the algorithm and some possible problems in detail. Moreover, the data and tables are also very appropriately invoked, which makes it easier and straightforward to understand what the author wants to express.\n",
    "Also,the paper could have been more attractive if the authors had provided more applications of this method in real life and its role in the future development of science and technology."
   ]
  },
  {
   "cell_type": "markdown",
   "metadata": {},
   "source": [
    "## References\n",
    "N. Belhumeur,  P. Hespanha, and J.Kriegman “Eigenfaces vs. Fisherfaces: Recognition Using Class Specific Linear Projection，”IEEE， TRANSACTIONS ON PATTERN ANALYSIS AND MACHINE INTELLIGENCE，vol.19, no.7, July  1997 \n",
    "\n",
    "R. Duda and P. Hart, Pattern Classification and Scene Analysis. New York: Wiley, 1973.\n",
    "\n",
    "L. Sirovitch and M. Kirby, “Low-Dimensional Procedure for the Characterization of Human Faces,” J. Optical Soc. of Am. A, vol. 2, pp. 519-524, 1987. \n",
    "\n",
    "R.A. Fisher, “The Use of Multiple Measures in Taxonomic Problems,” Ann. Eugenics, vol. 7, pp. 179-188, 1936. \n",
    "\n",
    "R. Chellappa, C. Wilson, and S. Sirohey, “Human and Machine Recognition of Faces: A Survey,” Proc. IEEE, vol. 83, no. 5, pp. 705740, 1995. \n",
    "\n"
   ]
  }
 ],
 "metadata": {
  "kernelspec": {
   "display_name": "Python 3",
   "language": "python",
   "name": "python3"
  },
  "language_info": {
   "codemirror_mode": {
    "name": "ipython",
    "version": 3
   },
   "file_extension": ".py",
   "mimetype": "text/x-python",
   "name": "python",
   "nbconvert_exporter": "python",
   "pygments_lexer": "ipython3",
   "version": "3.7.3"
  },
  "toc": {
   "base_numbering": 1,
   "nav_menu": {},
   "number_sections": true,
   "sideBar": true,
   "skip_h1_title": false,
   "title_cell": "Table of Contents",
   "title_sidebar": "Contents",
   "toc_cell": false,
   "toc_position": {},
   "toc_section_display": true,
   "toc_window_display": false
  }
 },
 "nbformat": 4,
 "nbformat_minor": 2
}
